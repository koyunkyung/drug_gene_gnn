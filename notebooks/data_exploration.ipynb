{
 "cells": [
  {
   "cell_type": "markdown",
   "metadata": {},
   "source": [
    "**Raw Data Exploration**"
   ]
  },
  {
   "cell_type": "code",
   "execution_count": 1,
   "metadata": {},
   "outputs": [
    {
     "name": "stdout",
     "output_type": "stream",
     "text": [
      "<class 'pandas.core.frame.DataFrame'>\n",
      "RangeIndex: 39321 entries, 0 to 39320\n",
      "Data columns (total 7 columns):\n",
      " #   Column            Non-Null Count  Dtype \n",
      "---  ------            --------------  ----- \n",
      " 0   pert_id           39321 non-null  object\n",
      " 1   cmap_name         39321 non-null  object\n",
      " 2   target            8046 non-null   object\n",
      " 3   moa               8046 non-null   object\n",
      " 4   canonical_smiles  33531 non-null  object\n",
      " 5   inchi_key         26838 non-null  object\n",
      " 6   compound_aliases  855 non-null    object\n",
      "dtypes: object(7)\n",
      "memory usage: 2.1+ MB\n",
      "None \n",
      "\n",
      "         pert_id      cmap_name target  moa  \\\n",
      "0  BRD-A08715367     L-theanine    NaN  NaN   \n",
      "1  BRD-A12237696   L-citrulline    NaN  NaN   \n",
      "2  BRD-A18795974  BRD-A18795974    NaN  NaN   \n",
      "3  BRD-A27924917  BRD-A27924917    NaN  NaN   \n",
      "4  BRD-A35931254  BRD-A35931254    NaN  NaN   \n",
      "\n",
      "                     canonical_smiles                    inchi_key  \\\n",
      "0                CCNC(=O)CCC(N)C(O)=O  DATAGRPVKZEWHA-UHFFFAOYSA-N   \n",
      "1                NC(CCCNC(N)=O)C(O)=O  RHGKLRLOHDJJDR-UHFFFAOYSA-N   \n",
      "2          CCCN(CCC)C1CCc2ccc(O)cc2C1  BLYMJBIZMIGWFK-UHFFFAOYSA-N   \n",
      "3     NCC(O)(CS(O)(=O)=O)c1ccc(Cl)cc1  WBSMZVIMANOCNX-UHFFFAOYSA-N   \n",
      "4  CN1CCc2cccc-3c2C1Cc1ccc(O)c(O)c-31  VMWNQDUVQKEIOC-UHFFFAOYSA-N   \n",
      "\n",
      "    compound_aliases  \n",
      "0         l-theanine  \n",
      "1       l-citrulline  \n",
      "2     7-hydroxy-DPAT  \n",
      "3  2-hydroxysaclofen  \n",
      "4   r(-)-apomorphine  \n"
     ]
    }
   ],
   "source": [
    "import pandas as pd\n",
    "compound_info = pd.read_csv(\"~/projects/drug_gene_gnn/data/raw/compound_info.txt\", sep=\"\\t\")\n",
    "print(compound_info.info(), \"\\n\")\n",
    "print(compound_info.head())"
   ]
  },
  {
   "cell_type": "code",
   "execution_count": 2,
   "metadata": {},
   "outputs": [
    {
     "name": "stdout",
     "output_type": "stream",
     "text": [
      "<class 'pandas.core.frame.DataFrame'>\n",
      "RangeIndex: 12328 entries, 0 to 12327\n",
      "Data columns (total 7 columns):\n",
      " #   Column         Non-Null Count  Dtype \n",
      "---  ------         --------------  ----- \n",
      " 0   gene_id        12328 non-null  int64 \n",
      " 1   gene_symbol    12328 non-null  object\n",
      " 2   ensembl_id     12277 non-null  object\n",
      " 3   gene_title     12328 non-null  object\n",
      " 4   gene_type      12328 non-null  object\n",
      " 5   src            12328 non-null  object\n",
      " 6   feature_space  12328 non-null  object\n",
      "dtypes: int64(1), object(6)\n",
      "memory usage: 674.3+ KB\n",
      "None \n",
      "\n",
      "   gene_id gene_symbol       ensembl_id  \\\n",
      "0      750    GAS8-AS1  ENSG00000221819   \n",
      "1     6315     ATXN8OS              NaN   \n",
      "2     7503        XIST  ENSG00000229807   \n",
      "3     8552        INE1  ENSG00000224975   \n",
      "4     9834      FAM30A  ENSG00000226777   \n",
      "\n",
      "                                    gene_title gene_type   src feature_space  \n",
      "0                         GAS8 antisense RNA 1     ncRNA  NCBI      inferred  \n",
      "1                 ATXN8 opposite strand lncRNA     ncRNA  NCBI      inferred  \n",
      "2               X inactive specific transcript     ncRNA  NCBI      inferred  \n",
      "3                        inactivation escape 1     ncRNA  NCBI      inferred  \n",
      "4  family with sequence similarity 30 member A     ncRNA  NCBI      inferred  \n"
     ]
    }
   ],
   "source": [
    "gene_info = pd.read_csv(\"~/projects/drug_gene_gnn/data/raw/gene_info.txt\", sep=\"\\t\")\n",
    "print(gene_info.info(), \"\\n\")\n",
    "print(gene_info.head())"
   ]
  },
  {
   "cell_type": "code",
   "execution_count": 28,
   "metadata": {},
   "outputs": [
    {
     "name": "stderr",
     "output_type": "stream",
     "text": [
      "/tmp/ipykernel_23931/2874345799.py:1: DtypeWarning: Columns (4) have mixed types. Specify dtype option on import or set low_memory=False.\n",
      "  inst_info = pd.read_csv(\"~/projects/drug_gene_gnn/data/raw/inst_info.txt\", sep=\"\\t\")\n"
     ]
    },
    {
     "name": "stdout",
     "output_type": "stream",
     "text": [
      "<class 'pandas.core.frame.DataFrame'>\n",
      "RangeIndex: 3026460 entries, 0 to 3026459\n",
      "Data columns (total 30 columns):\n",
      " #   Column          Dtype  \n",
      "---  ------          -----  \n",
      " 0   bead_batch      object \n",
      " 1   nearest_dose    float64\n",
      " 2   pert_dose       float64\n",
      " 3   pert_dose_unit  object \n",
      " 4   pert_idose      object \n",
      " 5   pert_time       float64\n",
      " 6   pert_itime      object \n",
      " 7   pert_time_unit  object \n",
      " 8   cell_mfc_name   object \n",
      " 9   pert_mfc_id     object \n",
      " 10  det_plate       object \n",
      " 11  det_well        object \n",
      " 12  rna_plate       object \n",
      " 13  rna_well        object \n",
      " 14  count_mean      int64  \n",
      " 15  count_cv        int64  \n",
      " 16  qc_f_logp       float64\n",
      " 17  qc_iqr          float64\n",
      " 18  qc_slope        int64  \n",
      " 19  pert_id         object \n",
      " 20  sample_id       object \n",
      " 21  pert_type       object \n",
      " 22  cell_iname      object \n",
      " 23  qc_pass         float64\n",
      " 24  dyn_range       float64\n",
      " 25  inv_level_10    float64\n",
      " 26  build_name      float64\n",
      " 27  failure_mode    object \n",
      " 28  project_code    object \n",
      " 29  cmap_name       object \n",
      "dtypes: float64(9), int64(3), object(18)\n",
      "memory usage: 692.7+ MB\n",
      "None \n",
      "\n",
      "  bead_batch  nearest_dose  pert_dose pert_dose_unit pert_idose  pert_time  \\\n",
      "0        b11           NaN      20.00             uL      20 uL       72.0   \n",
      "1        b10           NaN       1.00             uL       1 uL       96.0   \n",
      "2        b12           NaN       0.10          ng/ml  0.1 ng/ml        2.0   \n",
      "3        b12           NaN     150.00             ng     150 ng       48.0   \n",
      "4       f3b5          6.66       5.33             uM    6.66 uM       24.0   \n",
      "\n",
      "  pert_itime pert_time_unit cell_mfc_name     pert_mfc_id  ...  \\\n",
      "0       72 h              h          VCAP          ERG_11  ...   \n",
      "1       96 h              h          U2OS  TRCN0000072237  ...   \n",
      "2        2 h              h         HEPG2            SOD3  ...   \n",
      "3       48 h              h       HEK293T      ENTRY00543  ...   \n",
      "4       24 h              h          A375   BRD-K79781870  ...   \n",
      "\n",
      "                                 sample_id   pert_type cell_iname qc_pass  \\\n",
      "0               ERG013_VCAP_72H_X3_B11:O14      trt_sh       VCAP     0.0   \n",
      "1   TAK004_U2OS_96H_X2_B10_DUO52HI53LO:D10  ctl_vector       U2OS     0.0   \n",
      "2               CYT001_HEPG2_2H_X2_B12:N12     trt_lig      HEPG2     1.0   \n",
      "3            HSF038_HEK293T_48H_X2_B12:M01      trt_oe    HEK293T     0.0   \n",
      "4  DOS043_A375_24H_X1_F3B5_DUO52HI53LO:D17      trt_cp       A375     0.0   \n",
      "\n",
      "   dyn_range  inv_level_10  build_name         failure_mode  project_code  \\\n",
      "0    4.20788        4220.5         NaN            dyn_range           ERG   \n",
      "1    4.73906        1462.0         NaN         inv_level_10           TAK   \n",
      "2    6.79642        3038.0         NaN                  NaN           CYT   \n",
      "3   23.79710        1642.0         NaN         inv_level_10           HSF   \n",
      "4    6.78867        1558.0         NaN  inv_level_10,qc_iqr           DOS   \n",
      "\n",
      "       cmap_name  \n",
      "0            ERG  \n",
      "1           LACZ  \n",
      "2           SOD3  \n",
      "3         PDGFRA  \n",
      "4  BRD-K79781870  \n",
      "\n",
      "[5 rows x 30 columns]\n"
     ]
    }
   ],
   "source": [
    "inst_info = pd.read_csv(\"~/projects/drug_gene_gnn/data/raw/inst_info.txt\", sep=\"\\t\")\n",
    "print(inst_info.info(), \"\\n\")\n",
    "print(inst_info.head())"
   ]
  },
  {
   "cell_type": "code",
   "execution_count": null,
   "metadata": {},
   "outputs": [],
   "source": []
  }
 ],
 "metadata": {
  "kernelspec": {
   "display_name": "drug_gene_gnn",
   "language": "python",
   "name": "python3"
  },
  "language_info": {
   "codemirror_mode": {
    "name": "ipython",
    "version": 3
   },
   "file_extension": ".py",
   "mimetype": "text/x-python",
   "name": "python",
   "nbconvert_exporter": "python",
   "pygments_lexer": "ipython3",
   "version": "3.9.21"
  }
 },
 "nbformat": 4,
 "nbformat_minor": 2
}
